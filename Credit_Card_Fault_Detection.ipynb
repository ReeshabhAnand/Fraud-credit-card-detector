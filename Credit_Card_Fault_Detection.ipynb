{
  "nbformat": 4,
  "nbformat_minor": 0,
  "metadata": {
    "colab": {
      "name": "Credit Card Fault Detection.ipynb",
      "provenance": []
    },
    "kernelspec": {
      "name": "python3",
      "display_name": "Python 3"
    },
    "language_info": {
      "name": "python"
    }
  },
  "cells": [
    {
      "cell_type": "markdown",
      "metadata": {
        "id": "iH_AF7FWmTLw"
      },
      "source": [
        "Importing the Dependencies\n"
      ]
    },
    {
      "cell_type": "code",
      "metadata": {
        "id": "9g6JSKEImdLh"
      },
      "source": [
        "import numpy as np\n",
        "import pandas as pd\n",
        "from sklearn.model_selection import train_test_split\n",
        "from sklearn.linear_model import LogisticRegression\n",
        "from sklearn.metrics import accuracy_score"
      ],
      "execution_count": null,
      "outputs": []
    },
    {
      "cell_type": "code",
      "metadata": {
        "id": "HbL9UFESoZmL"
      },
      "source": [
        "# loading the dataset to a Pandas DataFrame\n",
        "credit_card_data = pd.read_csv('/content/creditcard.csv')"
      ],
      "execution_count": null,
      "outputs": []
    },
    {
      "cell_type": "code",
      "metadata": {
        "colab": {
          "base_uri": "https://localhost:8080/",
          "height": 183
        },
        "id": "vY1IbLOOojqn",
        "outputId": "07334609-e2a9-469b-e177-abf5b48764b5"
      },
      "source": [
        "# first 5 rows of the dataset\n",
        "credit_card_data.head()\n"
      ],
      "execution_count": null,
      "outputs": [
        {
          "output_type": "error",
          "ename": "NameError",
          "evalue": "ignored",
          "traceback": [
            "\u001b[0;31m---------------------------------------------------------------------------\u001b[0m",
            "\u001b[0;31mNameError\u001b[0m                                 Traceback (most recent call last)",
            "\u001b[0;32m<ipython-input-1-5ec7a148a835>\u001b[0m in \u001b[0;36m<module>\u001b[0;34m()\u001b[0m\n\u001b[1;32m      1\u001b[0m \u001b[0;31m# first 5 rows of the dataset\u001b[0m\u001b[0;34m\u001b[0m\u001b[0;34m\u001b[0m\u001b[0;34m\u001b[0m\u001b[0m\n\u001b[0;32m----> 2\u001b[0;31m \u001b[0mcredit_card_data\u001b[0m\u001b[0;34m.\u001b[0m\u001b[0mhead\u001b[0m\u001b[0;34m(\u001b[0m\u001b[0;34m)\u001b[0m\u001b[0;34m\u001b[0m\u001b[0;34m\u001b[0m\u001b[0m\n\u001b[0m",
            "\u001b[0;31mNameError\u001b[0m: name 'credit_card_data' is not defined"
          ]
        }
      ]
    },
    {
      "cell_type": "code",
      "metadata": {
        "colab": {
          "base_uri": "https://localhost:8080/",
          "height": 226
        },
        "id": "0iMiTiAmpUy3",
        "outputId": "10524e1d-8627-4dc2-f2ab-add1bb7b1829"
      },
      "source": [
        "credit_card_data.tail()\n"
      ],
      "execution_count": null,
      "outputs": [
        {
          "output_type": "execute_result",
          "data": {
            "text/html": [
              "<div>\n",
              "<style scoped>\n",
              "    .dataframe tbody tr th:only-of-type {\n",
              "        vertical-align: middle;\n",
              "    }\n",
              "\n",
              "    .dataframe tbody tr th {\n",
              "        vertical-align: top;\n",
              "    }\n",
              "\n",
              "    .dataframe thead th {\n",
              "        text-align: right;\n",
              "    }\n",
              "</style>\n",
              "<table border=\"1\" class=\"dataframe\">\n",
              "  <thead>\n",
              "    <tr style=\"text-align: right;\">\n",
              "      <th></th>\n",
              "      <th>Time</th>\n",
              "      <th>V1</th>\n",
              "      <th>V2</th>\n",
              "      <th>V3</th>\n",
              "      <th>V4</th>\n",
              "      <th>V5</th>\n",
              "      <th>V6</th>\n",
              "      <th>V7</th>\n",
              "      <th>V8</th>\n",
              "      <th>V9</th>\n",
              "      <th>V10</th>\n",
              "      <th>V11</th>\n",
              "      <th>V12</th>\n",
              "      <th>V13</th>\n",
              "      <th>V14</th>\n",
              "      <th>V15</th>\n",
              "      <th>V16</th>\n",
              "      <th>V17</th>\n",
              "      <th>V18</th>\n",
              "      <th>V19</th>\n",
              "      <th>V20</th>\n",
              "      <th>V21</th>\n",
              "      <th>V22</th>\n",
              "      <th>V23</th>\n",
              "      <th>V24</th>\n",
              "      <th>V25</th>\n",
              "      <th>V26</th>\n",
              "      <th>V27</th>\n",
              "      <th>V28</th>\n",
              "      <th>Amount</th>\n",
              "      <th>Class</th>\n",
              "    </tr>\n",
              "  </thead>\n",
              "  <tbody>\n",
              "    <tr>\n",
              "      <th>3968</th>\n",
              "      <td>3617</td>\n",
              "      <td>1.134592</td>\n",
              "      <td>0.252051</td>\n",
              "      <td>0.488592</td>\n",
              "      <td>0.799826</td>\n",
              "      <td>-0.264819</td>\n",
              "      <td>-0.369918</td>\n",
              "      <td>-0.243365</td>\n",
              "      <td>0.049761</td>\n",
              "      <td>1.210818</td>\n",
              "      <td>-0.501100</td>\n",
              "      <td>2.789156</td>\n",
              "      <td>-2.035185</td>\n",
              "      <td>0.591176</td>\n",
              "      <td>1.613227</td>\n",
              "      <td>0.019375</td>\n",
              "      <td>0.348997</td>\n",
              "      <td>0.893749</td>\n",
              "      <td>0.096402</td>\n",
              "      <td>-0.543187</td>\n",
              "      <td>-0.199251</td>\n",
              "      <td>-0.351115</td>\n",
              "      <td>-0.851463</td>\n",
              "      <td>0.186169</td>\n",
              "      <td>0.092463</td>\n",
              "      <td>0.020015</td>\n",
              "      <td>0.057976</td>\n",
              "      <td>-0.046611</td>\n",
              "      <td>0.012562</td>\n",
              "      <td>13.99</td>\n",
              "      <td>0.0</td>\n",
              "    </tr>\n",
              "    <tr>\n",
              "      <th>3969</th>\n",
              "      <td>3621</td>\n",
              "      <td>-1.338671</td>\n",
              "      <td>1.080974</td>\n",
              "      <td>1.291196</td>\n",
              "      <td>0.719258</td>\n",
              "      <td>0.101320</td>\n",
              "      <td>0.053896</td>\n",
              "      <td>0.001297</td>\n",
              "      <td>-0.917575</td>\n",
              "      <td>1.638510</td>\n",
              "      <td>-0.083752</td>\n",
              "      <td>0.397378</td>\n",
              "      <td>-2.275709</td>\n",
              "      <td>1.433890</td>\n",
              "      <td>1.221291</td>\n",
              "      <td>-0.528967</td>\n",
              "      <td>-0.995916</td>\n",
              "      <td>1.315311</td>\n",
              "      <td>-0.650093</td>\n",
              "      <td>0.446636</td>\n",
              "      <td>-0.314824</td>\n",
              "      <td>0.498030</td>\n",
              "      <td>-0.483932</td>\n",
              "      <td>0.037686</td>\n",
              "      <td>0.053566</td>\n",
              "      <td>-0.560078</td>\n",
              "      <td>0.230423</td>\n",
              "      <td>-0.119911</td>\n",
              "      <td>0.321847</td>\n",
              "      <td>27.43</td>\n",
              "      <td>0.0</td>\n",
              "    </tr>\n",
              "    <tr>\n",
              "      <th>3970</th>\n",
              "      <td>3622</td>\n",
              "      <td>-0.339728</td>\n",
              "      <td>-2.417449</td>\n",
              "      <td>0.975517</td>\n",
              "      <td>2.537995</td>\n",
              "      <td>-1.720361</td>\n",
              "      <td>0.863005</td>\n",
              "      <td>0.032965</td>\n",
              "      <td>0.026764</td>\n",
              "      <td>2.487139</td>\n",
              "      <td>-1.079488</td>\n",
              "      <td>0.262792</td>\n",
              "      <td>-1.235066</td>\n",
              "      <td>2.241108</td>\n",
              "      <td>0.642509</td>\n",
              "      <td>-1.753635</td>\n",
              "      <td>-0.839245</td>\n",
              "      <td>1.323968</td>\n",
              "      <td>-0.353540</td>\n",
              "      <td>-0.874715</td>\n",
              "      <td>1.264624</td>\n",
              "      <td>0.391639</td>\n",
              "      <td>0.264432</td>\n",
              "      <td>-0.735031</td>\n",
              "      <td>0.450594</td>\n",
              "      <td>0.310022</td>\n",
              "      <td>-0.231357</td>\n",
              "      <td>-0.049872</td>\n",
              "      <td>0.153526</td>\n",
              "      <td>730.32</td>\n",
              "      <td>0.0</td>\n",
              "    </tr>\n",
              "    <tr>\n",
              "      <th>3971</th>\n",
              "      <td>3623</td>\n",
              "      <td>-0.368639</td>\n",
              "      <td>0.947432</td>\n",
              "      <td>1.707755</td>\n",
              "      <td>0.932092</td>\n",
              "      <td>0.292956</td>\n",
              "      <td>0.189100</td>\n",
              "      <td>0.499330</td>\n",
              "      <td>0.132466</td>\n",
              "      <td>0.779412</td>\n",
              "      <td>-0.748898</td>\n",
              "      <td>2.099043</td>\n",
              "      <td>-1.647850</td>\n",
              "      <td>1.092476</td>\n",
              "      <td>1.638789</td>\n",
              "      <td>-1.734711</td>\n",
              "      <td>-0.694476</td>\n",
              "      <td>0.845449</td>\n",
              "      <td>-0.083660</td>\n",
              "      <td>-0.215575</td>\n",
              "      <td>-0.193784</td>\n",
              "      <td>-0.119045</td>\n",
              "      <td>0.056665</td>\n",
              "      <td>-0.172703</td>\n",
              "      <td>0.170073</td>\n",
              "      <td>0.139605</td>\n",
              "      <td>-0.420518</td>\n",
              "      <td>0.033794</td>\n",
              "      <td>0.005996</td>\n",
              "      <td>6.87</td>\n",
              "      <td>0.0</td>\n",
              "    </tr>\n",
              "    <tr>\n",
              "      <th>3972</th>\n",
              "      <td>3624</td>\n",
              "      <td>-0.663445</td>\n",
              "      <td>1.162921</td>\n",
              "      <td>1.508050</td>\n",
              "      <td>0.549405</td>\n",
              "      <td>0.231377</td>\n",
              "      <td>-0.106041</td>\n",
              "      <td>0.817977</td>\n",
              "      <td>-0.387026</td>\n",
              "      <td>1.488054</td>\n",
              "      <td>-0.039574</td>\n",
              "      <td>0.015481</td>\n",
              "      <td>-2.124375</td>\n",
              "      <td>2.601527</td>\n",
              "      <td>0.749741</td>\n",
              "      <td>-0.823889</td>\n",
              "      <td>-0.696315</td>\n",
              "      <td>0.654470</td>\n",
              "      <td>-0.187225</td>\n",
              "      <td>0.968769</td>\n",
              "      <td>0.343323</td>\n",
              "      <td>-0.420337</td>\n",
              "      <td>-0.361357</td>\n",
              "      <td>NaN</td>\n",
              "      <td>NaN</td>\n",
              "      <td>NaN</td>\n",
              "      <td>NaN</td>\n",
              "      <td>NaN</td>\n",
              "      <td>NaN</td>\n",
              "      <td>NaN</td>\n",
              "      <td>NaN</td>\n",
              "    </tr>\n",
              "  </tbody>\n",
              "</table>\n",
              "</div>"
            ],
            "text/plain": [
              "      Time        V1        V2        V3  ...       V27       V28  Amount  Class\n",
              "3968  3617  1.134592  0.252051  0.488592  ... -0.046611  0.012562   13.99    0.0\n",
              "3969  3621 -1.338671  1.080974  1.291196  ... -0.119911  0.321847   27.43    0.0\n",
              "3970  3622 -0.339728 -2.417449  0.975517  ... -0.049872  0.153526  730.32    0.0\n",
              "3971  3623 -0.368639  0.947432  1.707755  ...  0.033794  0.005996    6.87    0.0\n",
              "3972  3624 -0.663445  1.162921  1.508050  ...       NaN       NaN     NaN    NaN\n",
              "\n",
              "[5 rows x 31 columns]"
            ]
          },
          "metadata": {
            "tags": []
          },
          "execution_count": 6
        }
      ]
    },
    {
      "cell_type": "code",
      "metadata": {
        "colab": {
          "base_uri": "https://localhost:8080/"
        },
        "id": "KXdt4iDqpVy6",
        "outputId": "3d804e31-b24d-4979-8af9-7106a4eaef38"
      },
      "source": [
        "# dataset informations\n",
        "credit_card_data.info()"
      ],
      "execution_count": null,
      "outputs": [
        {
          "output_type": "stream",
          "text": [
            "<class 'pandas.core.frame.DataFrame'>\n",
            "RangeIndex: 3973 entries, 0 to 3972\n",
            "Data columns (total 31 columns):\n",
            " #   Column  Non-Null Count  Dtype  \n",
            "---  ------  --------------  -----  \n",
            " 0   Time    3973 non-null   int64  \n",
            " 1   V1      3973 non-null   float64\n",
            " 2   V2      3973 non-null   float64\n",
            " 3   V3      3973 non-null   float64\n",
            " 4   V4      3973 non-null   float64\n",
            " 5   V5      3973 non-null   float64\n",
            " 6   V6      3973 non-null   float64\n",
            " 7   V7      3973 non-null   float64\n",
            " 8   V8      3973 non-null   float64\n",
            " 9   V9      3973 non-null   float64\n",
            " 10  V10     3973 non-null   float64\n",
            " 11  V11     3973 non-null   float64\n",
            " 12  V12     3973 non-null   float64\n",
            " 13  V13     3973 non-null   float64\n",
            " 14  V14     3973 non-null   float64\n",
            " 15  V15     3973 non-null   float64\n",
            " 16  V16     3973 non-null   float64\n",
            " 17  V17     3973 non-null   float64\n",
            " 18  V18     3973 non-null   float64\n",
            " 19  V19     3973 non-null   float64\n",
            " 20  V20     3973 non-null   float64\n",
            " 21  V21     3973 non-null   float64\n",
            " 22  V22     3973 non-null   float64\n",
            " 23  V23     3972 non-null   float64\n",
            " 24  V24     3972 non-null   float64\n",
            " 25  V25     3972 non-null   float64\n",
            " 26  V26     3972 non-null   float64\n",
            " 27  V27     3972 non-null   float64\n",
            " 28  V28     3972 non-null   float64\n",
            " 29  Amount  3972 non-null   float64\n",
            " 30  Class   3972 non-null   float64\n",
            "dtypes: float64(30), int64(1)\n",
            "memory usage: 962.3 KB\n"
          ],
          "name": "stdout"
        }
      ]
    },
    {
      "cell_type": "code",
      "metadata": {
        "colab": {
          "base_uri": "https://localhost:8080/"
        },
        "id": "trSntSrPpdgt",
        "outputId": "8a4ed300-d24f-4ae6-b275-c3809e63b938"
      },
      "source": [
        "# checking the number of missing values in each column\n",
        "credit_card_data.isnull().sum()"
      ],
      "execution_count": null,
      "outputs": [
        {
          "output_type": "execute_result",
          "data": {
            "text/plain": [
              "Time      0\n",
              "V1        0\n",
              "V2        0\n",
              "V3        0\n",
              "V4        0\n",
              "V5        0\n",
              "V6        0\n",
              "V7        0\n",
              "V8        0\n",
              "V9        0\n",
              "V10       0\n",
              "V11       0\n",
              "V12       0\n",
              "V13       0\n",
              "V14       0\n",
              "V15       0\n",
              "V16       0\n",
              "V17       0\n",
              "V18       0\n",
              "V19       0\n",
              "V20       0\n",
              "V21       0\n",
              "V22       0\n",
              "V23       1\n",
              "V24       1\n",
              "V25       1\n",
              "V26       1\n",
              "V27       1\n",
              "V28       1\n",
              "Amount    1\n",
              "Class     1\n",
              "dtype: int64"
            ]
          },
          "metadata": {
            "tags": []
          },
          "execution_count": 8
        }
      ]
    },
    {
      "cell_type": "code",
      "metadata": {
        "colab": {
          "base_uri": "https://localhost:8080/"
        },
        "id": "raih7bx1poIv",
        "outputId": "b27de465-b047-4fcb-c368-0e53fd014239"
      },
      "source": [
        "# distribution of legit transactions & fraudulent transactions\n",
        "credit_card_data['Class'].value_counts()"
      ],
      "execution_count": null,
      "outputs": [
        {
          "output_type": "execute_result",
          "data": {
            "text/plain": [
              "0.0    3970\n",
              "1.0       2\n",
              "Name: Class, dtype: int64"
            ]
          },
          "metadata": {
            "tags": []
          },
          "execution_count": 9
        }
      ]
    },
    {
      "cell_type": "markdown",
      "metadata": {
        "id": "ZhkAo4WLp8M_"
      },
      "source": [
        "This Dataset is highly unblanced\n",
        "0 --> Normal Transaction\n",
        "\n",
        "1 --> fraudulent transaction"
      ]
    },
    {
      "cell_type": "code",
      "metadata": {
        "id": "AjHBuP-pqA_0"
      },
      "source": [
        "# separating the data for analysis\n",
        "legit = credit_card_data[credit_card_data.Class == 0]\n",
        "fraud = credit_card_data[credit_card_data.Class == 1]"
      ],
      "execution_count": null,
      "outputs": []
    },
    {
      "cell_type": "code",
      "metadata": {
        "colab": {
          "base_uri": "https://localhost:8080/"
        },
        "id": "SO-pGLKpqGeO",
        "outputId": "dab3ec0f-0098-4d09-97d9-48ac7c885f97"
      },
      "source": [
        "print(legit.shape)\n",
        "print(fraud.shape)"
      ],
      "execution_count": null,
      "outputs": [
        {
          "output_type": "stream",
          "text": [
            "(3970, 31)\n",
            "(2, 31)\n"
          ],
          "name": "stdout"
        }
      ]
    },
    {
      "cell_type": "code",
      "metadata": {
        "colab": {
          "base_uri": "https://localhost:8080/"
        },
        "id": "oKrhZYUvqMRa",
        "outputId": "4e464920-a1f2-4849-ed11-22c169a017f8"
      },
      "source": [
        "# statistical measures of the data\n",
        "legit.Amount.describe()"
      ],
      "execution_count": null,
      "outputs": [
        {
          "output_type": "execute_result",
          "data": {
            "text/plain": [
              "count    3970.000000\n",
              "mean       64.899597\n",
              "std       213.612570\n",
              "min         0.000000\n",
              "25%         2.270000\n",
              "50%        12.990000\n",
              "75%        54.990000\n",
              "max      7712.430000\n",
              "Name: Amount, dtype: float64"
            ]
          },
          "metadata": {
            "tags": []
          },
          "execution_count": 12
        }
      ]
    },
    {
      "cell_type": "code",
      "metadata": {
        "colab": {
          "base_uri": "https://localhost:8080/"
        },
        "id": "x9ftjFMeqPjD",
        "outputId": "47b3bf06-8662-4bcf-bc17-5b8f94aca945"
      },
      "source": [
        "fraud.Amount.describe()"
      ],
      "execution_count": null,
      "outputs": [
        {
          "output_type": "execute_result",
          "data": {
            "text/plain": [
              "count      2.000000\n",
              "mean     264.500000\n",
              "std      374.059487\n",
              "min        0.000000\n",
              "25%      132.250000\n",
              "50%      264.500000\n",
              "75%      396.750000\n",
              "max      529.000000\n",
              "Name: Amount, dtype: float64"
            ]
          },
          "metadata": {
            "tags": []
          },
          "execution_count": 13
        }
      ]
    },
    {
      "cell_type": "code",
      "metadata": {
        "colab": {
          "base_uri": "https://localhost:8080/",
          "height": 163
        },
        "id": "dUCJKBNoqSHr",
        "outputId": "72f0808b-ae04-4f1d-dcd7-7f6cf08e6239"
      },
      "source": [
        "# compare the values for both transactions\n",
        "credit_card_data.groupby('Class').mean()"
      ],
      "execution_count": null,
      "outputs": [
        {
          "output_type": "execute_result",
          "data": {
            "text/html": [
              "<div>\n",
              "<style scoped>\n",
              "    .dataframe tbody tr th:only-of-type {\n",
              "        vertical-align: middle;\n",
              "    }\n",
              "\n",
              "    .dataframe tbody tr th {\n",
              "        vertical-align: top;\n",
              "    }\n",
              "\n",
              "    .dataframe thead th {\n",
              "        text-align: right;\n",
              "    }\n",
              "</style>\n",
              "<table border=\"1\" class=\"dataframe\">\n",
              "  <thead>\n",
              "    <tr style=\"text-align: right;\">\n",
              "      <th></th>\n",
              "      <th>Time</th>\n",
              "      <th>V1</th>\n",
              "      <th>V2</th>\n",
              "      <th>V3</th>\n",
              "      <th>V4</th>\n",
              "      <th>V5</th>\n",
              "      <th>V6</th>\n",
              "      <th>V7</th>\n",
              "      <th>V8</th>\n",
              "      <th>V9</th>\n",
              "      <th>V10</th>\n",
              "      <th>V11</th>\n",
              "      <th>V12</th>\n",
              "      <th>V13</th>\n",
              "      <th>V14</th>\n",
              "      <th>V15</th>\n",
              "      <th>V16</th>\n",
              "      <th>V17</th>\n",
              "      <th>V18</th>\n",
              "      <th>V19</th>\n",
              "      <th>V20</th>\n",
              "      <th>V21</th>\n",
              "      <th>V22</th>\n",
              "      <th>V23</th>\n",
              "      <th>V24</th>\n",
              "      <th>V25</th>\n",
              "      <th>V26</th>\n",
              "      <th>V27</th>\n",
              "      <th>V28</th>\n",
              "      <th>Amount</th>\n",
              "    </tr>\n",
              "    <tr>\n",
              "      <th>Class</th>\n",
              "      <th></th>\n",
              "      <th></th>\n",
              "      <th></th>\n",
              "      <th></th>\n",
              "      <th></th>\n",
              "      <th></th>\n",
              "      <th></th>\n",
              "      <th></th>\n",
              "      <th></th>\n",
              "      <th></th>\n",
              "      <th></th>\n",
              "      <th></th>\n",
              "      <th></th>\n",
              "      <th></th>\n",
              "      <th></th>\n",
              "      <th></th>\n",
              "      <th></th>\n",
              "      <th></th>\n",
              "      <th></th>\n",
              "      <th></th>\n",
              "      <th></th>\n",
              "      <th></th>\n",
              "      <th></th>\n",
              "      <th></th>\n",
              "      <th></th>\n",
              "      <th></th>\n",
              "      <th></th>\n",
              "      <th></th>\n",
              "      <th></th>\n",
              "      <th></th>\n",
              "    </tr>\n",
              "  </thead>\n",
              "  <tbody>\n",
              "    <tr>\n",
              "      <th>0.0</th>\n",
              "      <td>1638.828463</td>\n",
              "      <td>-0.332459</td>\n",
              "      <td>0.308935</td>\n",
              "      <td>0.837446</td>\n",
              "      <td>0.011432</td>\n",
              "      <td>-0.029468</td>\n",
              "      <td>0.053530</td>\n",
              "      <td>0.147357</td>\n",
              "      <td>-0.071642</td>\n",
              "      <td>0.056211</td>\n",
              "      <td>-0.056230</td>\n",
              "      <td>0.133069</td>\n",
              "      <td>0.288236</td>\n",
              "      <td>-0.146924</td>\n",
              "      <td>-0.094847</td>\n",
              "      <td>0.283598</td>\n",
              "      <td>-0.145376</td>\n",
              "      <td>-0.098337</td>\n",
              "      <td>-0.119984</td>\n",
              "      <td>0.031015</td>\n",
              "      <td>0.059567</td>\n",
              "      <td>0.010282</td>\n",
              "      <td>-0.082957</td>\n",
              "      <td>-0.058743</td>\n",
              "      <td>0.029114</td>\n",
              "      <td>0.095244</td>\n",
              "      <td>-0.012637</td>\n",
              "      <td>0.044658</td>\n",
              "      <td>0.002668</td>\n",
              "      <td>64.899597</td>\n",
              "    </tr>\n",
              "    <tr>\n",
              "      <th>1.0</th>\n",
              "      <td>439.000000</td>\n",
              "      <td>-2.677884</td>\n",
              "      <td>-0.602658</td>\n",
              "      <td>-0.260694</td>\n",
              "      <td>3.143275</td>\n",
              "      <td>0.418809</td>\n",
              "      <td>-1.245684</td>\n",
              "      <td>-1.105907</td>\n",
              "      <td>0.661932</td>\n",
              "      <td>-1.520521</td>\n",
              "      <td>-1.805429</td>\n",
              "      <td>1.393729</td>\n",
              "      <td>-1.701524</td>\n",
              "      <td>0.040640</td>\n",
              "      <td>-2.990641</td>\n",
              "      <td>1.195179</td>\n",
              "      <td>-0.236984</td>\n",
              "      <td>-1.115169</td>\n",
              "      <td>0.854249</td>\n",
              "      <td>0.350150</td>\n",
              "      <td>1.114625</td>\n",
              "      <td>0.589464</td>\n",
              "      <td>0.200214</td>\n",
              "      <td>0.455377</td>\n",
              "      <td>0.013198</td>\n",
              "      <td>0.162159</td>\n",
              "      <td>0.016239</td>\n",
              "      <td>0.004186</td>\n",
              "      <td>-0.053756</td>\n",
              "      <td>264.500000</td>\n",
              "    </tr>\n",
              "  </tbody>\n",
              "</table>\n",
              "</div>"
            ],
            "text/plain": [
              "              Time        V1        V2  ...       V27       V28      Amount\n",
              "Class                                   ...                                \n",
              "0.0    1638.828463 -0.332459  0.308935  ...  0.044658  0.002668   64.899597\n",
              "1.0     439.000000 -2.677884 -0.602658  ...  0.004186 -0.053756  264.500000\n",
              "\n",
              "[2 rows x 30 columns]"
            ]
          },
          "metadata": {
            "tags": []
          },
          "execution_count": 14
        }
      ]
    },
    {
      "cell_type": "markdown",
      "metadata": {
        "id": "83TtpIMIqnnY"
      },
      "source": [
        "Under-Sampling\n",
        "\n",
        "Build a sample dataset containing similar distribution of normal transactions and Fraudulent Transactions\n",
        "\n",
        "Number of Fraudulent Transactions --> 492\n"
      ]
    },
    {
      "cell_type": "code",
      "metadata": {
        "id": "5i16ZNb8qoni"
      },
      "source": [
        "legit_sample = legit.sample(n=492)"
      ],
      "execution_count": null,
      "outputs": []
    },
    {
      "cell_type": "markdown",
      "metadata": {
        "id": "0NirfImpqyDI"
      },
      "source": [
        "Concatenating two DataFrames"
      ]
    },
    {
      "cell_type": "code",
      "metadata": {
        "id": "3DNkaQ4Dqykx"
      },
      "source": [
        "new_dataset = pd.concat([legit_sample, fraud], axis=0)"
      ],
      "execution_count": null,
      "outputs": []
    },
    {
      "cell_type": "code",
      "metadata": {
        "colab": {
          "base_uri": "https://localhost:8080/",
          "height": 226
        },
        "id": "VIwZDmywq08U",
        "outputId": "2f39c4d9-605e-4b5f-c51f-e06e1ed3f2a1"
      },
      "source": [
        "new_dataset.head()"
      ],
      "execution_count": null,
      "outputs": [
        {
          "output_type": "execute_result",
          "data": {
            "text/html": [
              "<div>\n",
              "<style scoped>\n",
              "    .dataframe tbody tr th:only-of-type {\n",
              "        vertical-align: middle;\n",
              "    }\n",
              "\n",
              "    .dataframe tbody tr th {\n",
              "        vertical-align: top;\n",
              "    }\n",
              "\n",
              "    .dataframe thead th {\n",
              "        text-align: right;\n",
              "    }\n",
              "</style>\n",
              "<table border=\"1\" class=\"dataframe\">\n",
              "  <thead>\n",
              "    <tr style=\"text-align: right;\">\n",
              "      <th></th>\n",
              "      <th>Time</th>\n",
              "      <th>V1</th>\n",
              "      <th>V2</th>\n",
              "      <th>V3</th>\n",
              "      <th>V4</th>\n",
              "      <th>V5</th>\n",
              "      <th>V6</th>\n",
              "      <th>V7</th>\n",
              "      <th>V8</th>\n",
              "      <th>V9</th>\n",
              "      <th>V10</th>\n",
              "      <th>V11</th>\n",
              "      <th>V12</th>\n",
              "      <th>V13</th>\n",
              "      <th>V14</th>\n",
              "      <th>V15</th>\n",
              "      <th>V16</th>\n",
              "      <th>V17</th>\n",
              "      <th>V18</th>\n",
              "      <th>V19</th>\n",
              "      <th>V20</th>\n",
              "      <th>V21</th>\n",
              "      <th>V22</th>\n",
              "      <th>V23</th>\n",
              "      <th>V24</th>\n",
              "      <th>V25</th>\n",
              "      <th>V26</th>\n",
              "      <th>V27</th>\n",
              "      <th>V28</th>\n",
              "      <th>Amount</th>\n",
              "      <th>Class</th>\n",
              "    </tr>\n",
              "  </thead>\n",
              "  <tbody>\n",
              "    <tr>\n",
              "      <th>3164</th>\n",
              "      <td>2742</td>\n",
              "      <td>-1.476980</td>\n",
              "      <td>0.745637</td>\n",
              "      <td>1.327879</td>\n",
              "      <td>-1.611167</td>\n",
              "      <td>0.118487</td>\n",
              "      <td>-0.082856</td>\n",
              "      <td>0.647446</td>\n",
              "      <td>-0.001667</td>\n",
              "      <td>0.568293</td>\n",
              "      <td>0.472715</td>\n",
              "      <td>1.149053</td>\n",
              "      <td>0.045667</td>\n",
              "      <td>-0.981669</td>\n",
              "      <td>-0.099911</td>\n",
              "      <td>0.290563</td>\n",
              "      <td>0.528747</td>\n",
              "      <td>-0.864784</td>\n",
              "      <td>-0.159079</td>\n",
              "      <td>-0.652409</td>\n",
              "      <td>0.123042</td>\n",
              "      <td>-0.167691</td>\n",
              "      <td>-0.100510</td>\n",
              "      <td>0.008250</td>\n",
              "      <td>-0.289921</td>\n",
              "      <td>-0.343084</td>\n",
              "      <td>0.718303</td>\n",
              "      <td>0.083207</td>\n",
              "      <td>0.092216</td>\n",
              "      <td>38.44</td>\n",
              "      <td>0.0</td>\n",
              "    </tr>\n",
              "    <tr>\n",
              "      <th>3885</th>\n",
              "      <td>3443</td>\n",
              "      <td>-1.099180</td>\n",
              "      <td>1.167227</td>\n",
              "      <td>0.552755</td>\n",
              "      <td>0.905753</td>\n",
              "      <td>0.410698</td>\n",
              "      <td>1.329300</td>\n",
              "      <td>0.537857</td>\n",
              "      <td>0.620574</td>\n",
              "      <td>-0.817007</td>\n",
              "      <td>-0.192094</td>\n",
              "      <td>-0.053603</td>\n",
              "      <td>1.107314</td>\n",
              "      <td>1.203643</td>\n",
              "      <td>0.171853</td>\n",
              "      <td>-0.470635</td>\n",
              "      <td>-0.534837</td>\n",
              "      <td>-0.010476</td>\n",
              "      <td>0.162341</td>\n",
              "      <td>1.550108</td>\n",
              "      <td>0.144607</td>\n",
              "      <td>-0.041665</td>\n",
              "      <td>0.138225</td>\n",
              "      <td>-0.204652</td>\n",
              "      <td>-1.299114</td>\n",
              "      <td>0.426291</td>\n",
              "      <td>-0.114329</td>\n",
              "      <td>0.186094</td>\n",
              "      <td>0.051719</td>\n",
              "      <td>91.69</td>\n",
              "      <td>0.0</td>\n",
              "    </tr>\n",
              "    <tr>\n",
              "      <th>226</th>\n",
              "      <td>150</td>\n",
              "      <td>-0.399880</td>\n",
              "      <td>1.051966</td>\n",
              "      <td>1.390802</td>\n",
              "      <td>0.093132</td>\n",
              "      <td>-0.007699</td>\n",
              "      <td>-0.717559</td>\n",
              "      <td>0.588095</td>\n",
              "      <td>0.085932</td>\n",
              "      <td>-0.310722</td>\n",
              "      <td>-0.533285</td>\n",
              "      <td>0.177463</td>\n",
              "      <td>-0.272662</td>\n",
              "      <td>-0.686154</td>\n",
              "      <td>-0.237326</td>\n",
              "      <td>1.201249</td>\n",
              "      <td>0.028713</td>\n",
              "      <td>0.446918</td>\n",
              "      <td>-0.605910</td>\n",
              "      <td>-0.566863</td>\n",
              "      <td>0.018253</td>\n",
              "      <td>-0.224926</td>\n",
              "      <td>-0.573766</td>\n",
              "      <td>0.057041</td>\n",
              "      <td>0.329354</td>\n",
              "      <td>-0.302724</td>\n",
              "      <td>0.083883</td>\n",
              "      <td>0.258834</td>\n",
              "      <td>0.096337</td>\n",
              "      <td>0.89</td>\n",
              "      <td>0.0</td>\n",
              "    </tr>\n",
              "    <tr>\n",
              "      <th>3259</th>\n",
              "      <td>2809</td>\n",
              "      <td>-0.438813</td>\n",
              "      <td>0.681387</td>\n",
              "      <td>1.297765</td>\n",
              "      <td>-1.959230</td>\n",
              "      <td>0.102820</td>\n",
              "      <td>-1.338274</td>\n",
              "      <td>1.110342</td>\n",
              "      <td>-0.341033</td>\n",
              "      <td>0.787064</td>\n",
              "      <td>-1.195856</td>\n",
              "      <td>0.363409</td>\n",
              "      <td>0.507461</td>\n",
              "      <td>-0.287892</td>\n",
              "      <td>0.131695</td>\n",
              "      <td>1.091995</td>\n",
              "      <td>-1.030692</td>\n",
              "      <td>-0.100860</td>\n",
              "      <td>-0.585389</td>\n",
              "      <td>-0.660615</td>\n",
              "      <td>-0.016228</td>\n",
              "      <td>0.123546</td>\n",
              "      <td>0.770563</td>\n",
              "      <td>-0.201211</td>\n",
              "      <td>0.613286</td>\n",
              "      <td>-0.069293</td>\n",
              "      <td>-0.842888</td>\n",
              "      <td>0.256322</td>\n",
              "      <td>-0.011605</td>\n",
              "      <td>1.00</td>\n",
              "      <td>0.0</td>\n",
              "    </tr>\n",
              "    <tr>\n",
              "      <th>2641</th>\n",
              "      <td>2174</td>\n",
              "      <td>-0.792222</td>\n",
              "      <td>0.678566</td>\n",
              "      <td>-0.012002</td>\n",
              "      <td>-2.498578</td>\n",
              "      <td>2.260868</td>\n",
              "      <td>3.186467</td>\n",
              "      <td>0.057402</td>\n",
              "      <td>0.958555</td>\n",
              "      <td>0.045167</td>\n",
              "      <td>-0.365060</td>\n",
              "      <td>-0.240395</td>\n",
              "      <td>-0.226568</td>\n",
              "      <td>-0.077581</td>\n",
              "      <td>0.025081</td>\n",
              "      <td>0.715898</td>\n",
              "      <td>0.910074</td>\n",
              "      <td>-1.182896</td>\n",
              "      <td>0.086575</td>\n",
              "      <td>-0.344162</td>\n",
              "      <td>0.284991</td>\n",
              "      <td>-0.166558</td>\n",
              "      <td>-0.517780</td>\n",
              "      <td>-0.090281</td>\n",
              "      <td>1.032945</td>\n",
              "      <td>-0.130904</td>\n",
              "      <td>0.738932</td>\n",
              "      <td>0.367297</td>\n",
              "      <td>0.231984</td>\n",
              "      <td>11.53</td>\n",
              "      <td>0.0</td>\n",
              "    </tr>\n",
              "  </tbody>\n",
              "</table>\n",
              "</div>"
            ],
            "text/plain": [
              "      Time        V1        V2        V3  ...       V27       V28  Amount  Class\n",
              "3164  2742 -1.476980  0.745637  1.327879  ...  0.083207  0.092216   38.44    0.0\n",
              "3885  3443 -1.099180  1.167227  0.552755  ...  0.186094  0.051719   91.69    0.0\n",
              "226    150 -0.399880  1.051966  1.390802  ...  0.258834  0.096337    0.89    0.0\n",
              "3259  2809 -0.438813  0.681387  1.297765  ...  0.256322 -0.011605    1.00    0.0\n",
              "2641  2174 -0.792222  0.678566 -0.012002  ...  0.367297  0.231984   11.53    0.0\n",
              "\n",
              "[5 rows x 31 columns]"
            ]
          },
          "metadata": {
            "tags": []
          },
          "execution_count": 17
        }
      ]
    },
    {
      "cell_type": "code",
      "metadata": {
        "colab": {
          "base_uri": "https://localhost:8080/",
          "height": 226
        },
        "id": "Hm1KE9IDq3T2",
        "outputId": "d9431221-bb24-46cd-9f27-ae097defa576"
      },
      "source": [
        "new_dataset.tail()"
      ],
      "execution_count": null,
      "outputs": [
        {
          "output_type": "execute_result",
          "data": {
            "text/html": [
              "<div>\n",
              "<style scoped>\n",
              "    .dataframe tbody tr th:only-of-type {\n",
              "        vertical-align: middle;\n",
              "    }\n",
              "\n",
              "    .dataframe tbody tr th {\n",
              "        vertical-align: top;\n",
              "    }\n",
              "\n",
              "    .dataframe thead th {\n",
              "        text-align: right;\n",
              "    }\n",
              "</style>\n",
              "<table border=\"1\" class=\"dataframe\">\n",
              "  <thead>\n",
              "    <tr style=\"text-align: right;\">\n",
              "      <th></th>\n",
              "      <th>Time</th>\n",
              "      <th>V1</th>\n",
              "      <th>V2</th>\n",
              "      <th>V3</th>\n",
              "      <th>V4</th>\n",
              "      <th>V5</th>\n",
              "      <th>V6</th>\n",
              "      <th>V7</th>\n",
              "      <th>V8</th>\n",
              "      <th>V9</th>\n",
              "      <th>V10</th>\n",
              "      <th>V11</th>\n",
              "      <th>V12</th>\n",
              "      <th>V13</th>\n",
              "      <th>V14</th>\n",
              "      <th>V15</th>\n",
              "      <th>V16</th>\n",
              "      <th>V17</th>\n",
              "      <th>V18</th>\n",
              "      <th>V19</th>\n",
              "      <th>V20</th>\n",
              "      <th>V21</th>\n",
              "      <th>V22</th>\n",
              "      <th>V23</th>\n",
              "      <th>V24</th>\n",
              "      <th>V25</th>\n",
              "      <th>V26</th>\n",
              "      <th>V27</th>\n",
              "      <th>V28</th>\n",
              "      <th>Amount</th>\n",
              "      <th>Class</th>\n",
              "    </tr>\n",
              "  </thead>\n",
              "  <tbody>\n",
              "    <tr>\n",
              "      <th>2621</th>\n",
              "      <td>2150</td>\n",
              "      <td>-0.662096</td>\n",
              "      <td>0.814067</td>\n",
              "      <td>1.097874</td>\n",
              "      <td>-2.121816</td>\n",
              "      <td>0.006791</td>\n",
              "      <td>-1.152809</td>\n",
              "      <td>0.750859</td>\n",
              "      <td>-1.048359</td>\n",
              "      <td>0.739478</td>\n",
              "      <td>-0.888909</td>\n",
              "      <td>1.405047</td>\n",
              "      <td>0.648001</td>\n",
              "      <td>-1.101161</td>\n",
              "      <td>0.463296</td>\n",
              "      <td>0.232216</td>\n",
              "      <td>-0.403910</td>\n",
              "      <td>-0.640844</td>\n",
              "      <td>0.576260</td>\n",
              "      <td>0.100256</td>\n",
              "      <td>-0.175300</td>\n",
              "      <td>0.881117</td>\n",
              "      <td>0.383280</td>\n",
              "      <td>-0.159298</td>\n",
              "      <td>0.506332</td>\n",
              "      <td>0.009980</td>\n",
              "      <td>-0.860853</td>\n",
              "      <td>0.264617</td>\n",
              "      <td>-0.015272</td>\n",
              "      <td>1.00</td>\n",
              "      <td>0.0</td>\n",
              "    </tr>\n",
              "    <tr>\n",
              "      <th>3289</th>\n",
              "      <td>2834</td>\n",
              "      <td>1.250249</td>\n",
              "      <td>0.019063</td>\n",
              "      <td>-1.326108</td>\n",
              "      <td>-0.039059</td>\n",
              "      <td>2.232341</td>\n",
              "      <td>3.300602</td>\n",
              "      <td>-0.326435</td>\n",
              "      <td>0.757703</td>\n",
              "      <td>-0.156352</td>\n",
              "      <td>0.062703</td>\n",
              "      <td>-0.161649</td>\n",
              "      <td>0.029727</td>\n",
              "      <td>-0.018457</td>\n",
              "      <td>0.530951</td>\n",
              "      <td>1.107512</td>\n",
              "      <td>0.377201</td>\n",
              "      <td>-0.926363</td>\n",
              "      <td>0.295044</td>\n",
              "      <td>-0.006783</td>\n",
              "      <td>0.033750</td>\n",
              "      <td>-0.009900</td>\n",
              "      <td>-0.189322</td>\n",
              "      <td>-0.157734</td>\n",
              "      <td>1.005326</td>\n",
              "      <td>0.838403</td>\n",
              "      <td>-0.315582</td>\n",
              "      <td>0.011439</td>\n",
              "      <td>0.018031</td>\n",
              "      <td>30.00</td>\n",
              "      <td>0.0</td>\n",
              "    </tr>\n",
              "    <tr>\n",
              "      <th>1166</th>\n",
              "      <td>909</td>\n",
              "      <td>1.178042</td>\n",
              "      <td>0.136031</td>\n",
              "      <td>0.117099</td>\n",
              "      <td>0.892501</td>\n",
              "      <td>-0.012615</td>\n",
              "      <td>-0.023221</td>\n",
              "      <td>-0.078590</td>\n",
              "      <td>0.165834</td>\n",
              "      <td>-0.011342</td>\n",
              "      <td>0.187640</td>\n",
              "      <td>0.954908</td>\n",
              "      <td>-0.013830</td>\n",
              "      <td>-1.681119</td>\n",
              "      <td>0.919436</td>\n",
              "      <td>0.674221</td>\n",
              "      <td>0.125167</td>\n",
              "      <td>-0.424384</td>\n",
              "      <td>0.202075</td>\n",
              "      <td>-0.305261</td>\n",
              "      <td>-0.256309</td>\n",
              "      <td>0.067151</td>\n",
              "      <td>0.158914</td>\n",
              "      <td>-0.103842</td>\n",
              "      <td>-0.340413</td>\n",
              "      <td>0.572862</td>\n",
              "      <td>-0.290464</td>\n",
              "      <td>0.015099</td>\n",
              "      <td>0.000135</td>\n",
              "      <td>5.47</td>\n",
              "      <td>0.0</td>\n",
              "    </tr>\n",
              "    <tr>\n",
              "      <th>541</th>\n",
              "      <td>406</td>\n",
              "      <td>-2.312227</td>\n",
              "      <td>1.951992</td>\n",
              "      <td>-1.609851</td>\n",
              "      <td>3.997906</td>\n",
              "      <td>-0.522188</td>\n",
              "      <td>-1.426545</td>\n",
              "      <td>-2.537387</td>\n",
              "      <td>1.391657</td>\n",
              "      <td>-2.770089</td>\n",
              "      <td>-2.772272</td>\n",
              "      <td>3.202033</td>\n",
              "      <td>-2.899907</td>\n",
              "      <td>-0.595222</td>\n",
              "      <td>-4.289254</td>\n",
              "      <td>0.389724</td>\n",
              "      <td>-1.140747</td>\n",
              "      <td>-2.830056</td>\n",
              "      <td>-0.016822</td>\n",
              "      <td>0.416956</td>\n",
              "      <td>0.126911</td>\n",
              "      <td>0.517232</td>\n",
              "      <td>-0.035049</td>\n",
              "      <td>-0.465211</td>\n",
              "      <td>0.320198</td>\n",
              "      <td>0.044519</td>\n",
              "      <td>0.177840</td>\n",
              "      <td>0.261145</td>\n",
              "      <td>-0.143276</td>\n",
              "      <td>0.00</td>\n",
              "      <td>1.0</td>\n",
              "    </tr>\n",
              "    <tr>\n",
              "      <th>623</th>\n",
              "      <td>472</td>\n",
              "      <td>-3.043541</td>\n",
              "      <td>-3.157307</td>\n",
              "      <td>1.088463</td>\n",
              "      <td>2.288644</td>\n",
              "      <td>1.359805</td>\n",
              "      <td>-1.064823</td>\n",
              "      <td>0.325574</td>\n",
              "      <td>-0.067794</td>\n",
              "      <td>-0.270953</td>\n",
              "      <td>-0.838587</td>\n",
              "      <td>-0.414575</td>\n",
              "      <td>-0.503141</td>\n",
              "      <td>0.676502</td>\n",
              "      <td>-1.692029</td>\n",
              "      <td>2.000635</td>\n",
              "      <td>0.666780</td>\n",
              "      <td>0.599717</td>\n",
              "      <td>1.725321</td>\n",
              "      <td>0.283345</td>\n",
              "      <td>2.102339</td>\n",
              "      <td>0.661696</td>\n",
              "      <td>0.435477</td>\n",
              "      <td>1.375966</td>\n",
              "      <td>-0.293803</td>\n",
              "      <td>0.279798</td>\n",
              "      <td>-0.145362</td>\n",
              "      <td>-0.252773</td>\n",
              "      <td>0.035764</td>\n",
              "      <td>529.00</td>\n",
              "      <td>1.0</td>\n",
              "    </tr>\n",
              "  </tbody>\n",
              "</table>\n",
              "</div>"
            ],
            "text/plain": [
              "      Time        V1        V2        V3  ...       V27       V28  Amount  Class\n",
              "2621  2150 -0.662096  0.814067  1.097874  ...  0.264617 -0.015272    1.00    0.0\n",
              "3289  2834  1.250249  0.019063 -1.326108  ...  0.011439  0.018031   30.00    0.0\n",
              "1166   909  1.178042  0.136031  0.117099  ...  0.015099  0.000135    5.47    0.0\n",
              "541    406 -2.312227  1.951992 -1.609851  ...  0.261145 -0.143276    0.00    1.0\n",
              "623    472 -3.043541 -3.157307  1.088463  ... -0.252773  0.035764  529.00    1.0\n",
              "\n",
              "[5 rows x 31 columns]"
            ]
          },
          "metadata": {
            "tags": []
          },
          "execution_count": 18
        }
      ]
    },
    {
      "cell_type": "code",
      "metadata": {
        "colab": {
          "base_uri": "https://localhost:8080/"
        },
        "id": "-CjRsFAUq49p",
        "outputId": "07b4cbf4-b3eb-4624-b691-b80451cc6a0a"
      },
      "source": [
        "new_dataset['Class'].value_counts()"
      ],
      "execution_count": null,
      "outputs": [
        {
          "output_type": "execute_result",
          "data": {
            "text/plain": [
              "0.0    492\n",
              "1.0      2\n",
              "Name: Class, dtype: int64"
            ]
          },
          "metadata": {
            "tags": []
          },
          "execution_count": 19
        }
      ]
    },
    {
      "cell_type": "code",
      "metadata": {
        "colab": {
          "base_uri": "https://localhost:8080/",
          "height": 163
        },
        "id": "sSquepxeq7yL",
        "outputId": "0f069031-c0b8-46c8-b039-420d2b6b27d4"
      },
      "source": [
        "new_dataset.groupby('Class').mean()"
      ],
      "execution_count": null,
      "outputs": [
        {
          "output_type": "execute_result",
          "data": {
            "text/html": [
              "<div>\n",
              "<style scoped>\n",
              "    .dataframe tbody tr th:only-of-type {\n",
              "        vertical-align: middle;\n",
              "    }\n",
              "\n",
              "    .dataframe tbody tr th {\n",
              "        vertical-align: top;\n",
              "    }\n",
              "\n",
              "    .dataframe thead th {\n",
              "        text-align: right;\n",
              "    }\n",
              "</style>\n",
              "<table border=\"1\" class=\"dataframe\">\n",
              "  <thead>\n",
              "    <tr style=\"text-align: right;\">\n",
              "      <th></th>\n",
              "      <th>Time</th>\n",
              "      <th>V1</th>\n",
              "      <th>V2</th>\n",
              "      <th>V3</th>\n",
              "      <th>V4</th>\n",
              "      <th>V5</th>\n",
              "      <th>V6</th>\n",
              "      <th>V7</th>\n",
              "      <th>V8</th>\n",
              "      <th>V9</th>\n",
              "      <th>V10</th>\n",
              "      <th>V11</th>\n",
              "      <th>V12</th>\n",
              "      <th>V13</th>\n",
              "      <th>V14</th>\n",
              "      <th>V15</th>\n",
              "      <th>V16</th>\n",
              "      <th>V17</th>\n",
              "      <th>V18</th>\n",
              "      <th>V19</th>\n",
              "      <th>V20</th>\n",
              "      <th>V21</th>\n",
              "      <th>V22</th>\n",
              "      <th>V23</th>\n",
              "      <th>V24</th>\n",
              "      <th>V25</th>\n",
              "      <th>V26</th>\n",
              "      <th>V27</th>\n",
              "      <th>V28</th>\n",
              "      <th>Amount</th>\n",
              "    </tr>\n",
              "    <tr>\n",
              "      <th>Class</th>\n",
              "      <th></th>\n",
              "      <th></th>\n",
              "      <th></th>\n",
              "      <th></th>\n",
              "      <th></th>\n",
              "      <th></th>\n",
              "      <th></th>\n",
              "      <th></th>\n",
              "      <th></th>\n",
              "      <th></th>\n",
              "      <th></th>\n",
              "      <th></th>\n",
              "      <th></th>\n",
              "      <th></th>\n",
              "      <th></th>\n",
              "      <th></th>\n",
              "      <th></th>\n",
              "      <th></th>\n",
              "      <th></th>\n",
              "      <th></th>\n",
              "      <th></th>\n",
              "      <th></th>\n",
              "      <th></th>\n",
              "      <th></th>\n",
              "      <th></th>\n",
              "      <th></th>\n",
              "      <th></th>\n",
              "      <th></th>\n",
              "      <th></th>\n",
              "      <th></th>\n",
              "    </tr>\n",
              "  </thead>\n",
              "  <tbody>\n",
              "    <tr>\n",
              "      <th>0.0</th>\n",
              "      <td>1643.034553</td>\n",
              "      <td>-0.302514</td>\n",
              "      <td>0.279862</td>\n",
              "      <td>0.845053</td>\n",
              "      <td>-0.022542</td>\n",
              "      <td>-0.068525</td>\n",
              "      <td>0.061347</td>\n",
              "      <td>0.166918</td>\n",
              "      <td>-0.128370</td>\n",
              "      <td>0.057440</td>\n",
              "      <td>-0.076577</td>\n",
              "      <td>0.197590</td>\n",
              "      <td>0.302566</td>\n",
              "      <td>-0.14176</td>\n",
              "      <td>-0.099912</td>\n",
              "      <td>0.344915</td>\n",
              "      <td>-0.146066</td>\n",
              "      <td>-0.117853</td>\n",
              "      <td>-0.121518</td>\n",
              "      <td>0.006969</td>\n",
              "      <td>0.132553</td>\n",
              "      <td>-0.020814</td>\n",
              "      <td>-0.043529</td>\n",
              "      <td>-0.064874</td>\n",
              "      <td>0.051985</td>\n",
              "      <td>0.090137</td>\n",
              "      <td>-0.042858</td>\n",
              "      <td>0.034965</td>\n",
              "      <td>0.020031</td>\n",
              "      <td>75.845915</td>\n",
              "    </tr>\n",
              "    <tr>\n",
              "      <th>1.0</th>\n",
              "      <td>439.000000</td>\n",
              "      <td>-2.677884</td>\n",
              "      <td>-0.602658</td>\n",
              "      <td>-0.260694</td>\n",
              "      <td>3.143275</td>\n",
              "      <td>0.418809</td>\n",
              "      <td>-1.245684</td>\n",
              "      <td>-1.105907</td>\n",
              "      <td>0.661932</td>\n",
              "      <td>-1.520521</td>\n",
              "      <td>-1.805429</td>\n",
              "      <td>1.393729</td>\n",
              "      <td>-1.701524</td>\n",
              "      <td>0.04064</td>\n",
              "      <td>-2.990641</td>\n",
              "      <td>1.195179</td>\n",
              "      <td>-0.236984</td>\n",
              "      <td>-1.115169</td>\n",
              "      <td>0.854249</td>\n",
              "      <td>0.350150</td>\n",
              "      <td>1.114625</td>\n",
              "      <td>0.589464</td>\n",
              "      <td>0.200214</td>\n",
              "      <td>0.455377</td>\n",
              "      <td>0.013198</td>\n",
              "      <td>0.162159</td>\n",
              "      <td>0.016239</td>\n",
              "      <td>0.004186</td>\n",
              "      <td>-0.053756</td>\n",
              "      <td>264.500000</td>\n",
              "    </tr>\n",
              "  </tbody>\n",
              "</table>\n",
              "</div>"
            ],
            "text/plain": [
              "              Time        V1        V2  ...       V27       V28      Amount\n",
              "Class                                   ...                                \n",
              "0.0    1643.034553 -0.302514  0.279862  ...  0.034965  0.020031   75.845915\n",
              "1.0     439.000000 -2.677884 -0.602658  ...  0.004186 -0.053756  264.500000\n",
              "\n",
              "[2 rows x 30 columns]"
            ]
          },
          "metadata": {
            "tags": []
          },
          "execution_count": 20
        }
      ]
    },
    {
      "cell_type": "markdown",
      "metadata": {
        "id": "PYwA2gaRrA3I"
      },
      "source": [
        "Splitting the data into Features & Targets"
      ]
    },
    {
      "cell_type": "code",
      "metadata": {
        "id": "iXAG042crBQP"
      },
      "source": [
        "X = new_dataset.drop(columns='Class', axis=1)\n",
        "Y = new_dataset['Class']"
      ],
      "execution_count": null,
      "outputs": []
    },
    {
      "cell_type": "code",
      "metadata": {
        "colab": {
          "base_uri": "https://localhost:8080/"
        },
        "id": "-eDLGhgXrDUH",
        "outputId": "20415a60-e0e8-42c5-cd19-f811d0343b09"
      },
      "source": [
        "print(X)"
      ],
      "execution_count": null,
      "outputs": [
        {
          "output_type": "stream",
          "text": [
            "      Time        V1        V2        V3  ...       V26       V27       V28  Amount\n",
            "3164  2742 -1.476980  0.745637  1.327879  ...  0.718303  0.083207  0.092216   38.44\n",
            "3885  3443 -1.099180  1.167227  0.552755  ... -0.114329  0.186094  0.051719   91.69\n",
            "226    150 -0.399880  1.051966  1.390802  ...  0.083883  0.258834  0.096337    0.89\n",
            "3259  2809 -0.438813  0.681387  1.297765  ... -0.842888  0.256322 -0.011605    1.00\n",
            "2641  2174 -0.792222  0.678566 -0.012002  ...  0.738932  0.367297  0.231984   11.53\n",
            "...    ...       ...       ...       ...  ...       ...       ...       ...     ...\n",
            "2621  2150 -0.662096  0.814067  1.097874  ... -0.860853  0.264617 -0.015272    1.00\n",
            "3289  2834  1.250249  0.019063 -1.326108  ... -0.315582  0.011439  0.018031   30.00\n",
            "1166   909  1.178042  0.136031  0.117099  ... -0.290464  0.015099  0.000135    5.47\n",
            "541    406 -2.312227  1.951992 -1.609851  ...  0.177840  0.261145 -0.143276    0.00\n",
            "623    472 -3.043541 -3.157307  1.088463  ... -0.145362 -0.252773  0.035764  529.00\n",
            "\n",
            "[494 rows x 30 columns]\n"
          ],
          "name": "stdout"
        }
      ]
    },
    {
      "cell_type": "code",
      "metadata": {
        "colab": {
          "base_uri": "https://localhost:8080/"
        },
        "id": "x_Xug66WrFdp",
        "outputId": "c4af1923-c626-4fc3-a862-784a586f91f6"
      },
      "source": [
        "print(Y)"
      ],
      "execution_count": null,
      "outputs": [
        {
          "output_type": "stream",
          "text": [
            "3164    0.0\n",
            "3885    0.0\n",
            "226     0.0\n",
            "3259    0.0\n",
            "2641    0.0\n",
            "       ... \n",
            "2621    0.0\n",
            "3289    0.0\n",
            "1166    0.0\n",
            "541     1.0\n",
            "623     1.0\n",
            "Name: Class, Length: 494, dtype: float64\n"
          ],
          "name": "stdout"
        }
      ]
    },
    {
      "cell_type": "markdown",
      "metadata": {
        "id": "_zujLO0MrKCA"
      },
      "source": [
        "Split the data into Training data & Testing Data"
      ]
    },
    {
      "cell_type": "code",
      "metadata": {
        "id": "vmeu_AOgrKcJ"
      },
      "source": [
        "X_train, X_test, Y_train, Y_test = train_test_split(X, Y, test_size=0.2, stratify=Y, random_state=2)"
      ],
      "execution_count": null,
      "outputs": []
    },
    {
      "cell_type": "code",
      "metadata": {
        "colab": {
          "base_uri": "https://localhost:8080/"
        },
        "id": "btfzHe9JrMrk",
        "outputId": "7516b4dc-c2a3-4905-b035-544ed682b66b"
      },
      "source": [
        "print(X.shape, X_train.shape, X_test.shape)"
      ],
      "execution_count": null,
      "outputs": [
        {
          "output_type": "stream",
          "text": [
            "(494, 30) (395, 30) (99, 30)\n"
          ],
          "name": "stdout"
        }
      ]
    },
    {
      "cell_type": "markdown",
      "metadata": {
        "id": "l4DYac6IrQTf"
      },
      "source": [
        "Model Training\n",
        "\n",
        "Logistic Regression"
      ]
    },
    {
      "cell_type": "code",
      "metadata": {
        "id": "yiPCt1HmrQyo"
      },
      "source": [
        "model = LogisticRegression()"
      ],
      "execution_count": null,
      "outputs": []
    },
    {
      "cell_type": "code",
      "metadata": {
        "colab": {
          "base_uri": "https://localhost:8080/"
        },
        "id": "45rEB3f7rX19",
        "outputId": "7e7b741a-e1b8-4875-ebe2-517899bbcb1b"
      },
      "source": [
        "# training the Logistic Regression Model with Training Data\n",
        "model.fit(X_train, Y_train)"
      ],
      "execution_count": null,
      "outputs": [
        {
          "output_type": "stream",
          "text": [
            "/usr/local/lib/python3.7/dist-packages/sklearn/linear_model/_logistic.py:940: ConvergenceWarning: lbfgs failed to converge (status=1):\n",
            "STOP: TOTAL NO. of ITERATIONS REACHED LIMIT.\n",
            "\n",
            "Increase the number of iterations (max_iter) or scale the data as shown in:\n",
            "    https://scikit-learn.org/stable/modules/preprocessing.html\n",
            "Please also refer to the documentation for alternative solver options:\n",
            "    https://scikit-learn.org/stable/modules/linear_model.html#logistic-regression\n",
            "  extra_warning_msg=_LOGISTIC_SOLVER_CONVERGENCE_MSG)\n"
          ],
          "name": "stderr"
        },
        {
          "output_type": "execute_result",
          "data": {
            "text/plain": [
              "LogisticRegression(C=1.0, class_weight=None, dual=False, fit_intercept=True,\n",
              "                   intercept_scaling=1, l1_ratio=None, max_iter=100,\n",
              "                   multi_class='auto', n_jobs=None, penalty='l2',\n",
              "                   random_state=None, solver='lbfgs', tol=0.0001, verbose=0,\n",
              "                   warm_start=False)"
            ]
          },
          "metadata": {
            "tags": []
          },
          "execution_count": 41
        }
      ]
    },
    {
      "cell_type": "markdown",
      "metadata": {
        "id": "qXll67LQslwu"
      },
      "source": [
        "Model Evaluation\n",
        "\n"
      ]
    },
    {
      "cell_type": "markdown",
      "metadata": {
        "id": "xDJmS6XKssy_"
      },
      "source": [
        "Accuracy Score"
      ]
    },
    {
      "cell_type": "code",
      "metadata": {
        "id": "lLqlCUHTstdv"
      },
      "source": [
        "# accuracy on training data\n",
        "X_train_prediction = model.predict(X_train)\n",
        "training_data_accuracy = accuracy_score(X_train_prediction, Y_train)"
      ],
      "execution_count": null,
      "outputs": []
    },
    {
      "cell_type": "code",
      "metadata": {
        "colab": {
          "base_uri": "https://localhost:8080/"
        },
        "id": "vU16Q2aZsxPC",
        "outputId": "797bfb1c-af30-4e4b-d6c6-0e5a72f9a2b3"
      },
      "source": [
        "print('Accuracy on Training data : ', training_data_accuracy)"
      ],
      "execution_count": null,
      "outputs": [
        {
          "output_type": "stream",
          "text": [
            "Accuracy on Training data :  1.0\n"
          ],
          "name": "stdout"
        }
      ]
    },
    {
      "cell_type": "code",
      "metadata": {
        "id": "canTKpv-s0Fu"
      },
      "source": [
        "# accuracy on test data\n",
        "X_test_prediction = model.predict(X_test)\n",
        "test_data_accuracy = accuracy_score(X_test_prediction, Y_test)"
      ],
      "execution_count": null,
      "outputs": []
    },
    {
      "cell_type": "code",
      "metadata": {
        "colab": {
          "base_uri": "https://localhost:8080/"
        },
        "id": "k6g2cRp1s2Hz",
        "outputId": "b64d5d4a-c215-4f0c-cd7b-356cc0fbc501"
      },
      "source": [
        "print('Accuracy score on Test Data : ', test_data_accuracy)"
      ],
      "execution_count": null,
      "outputs": [
        {
          "output_type": "stream",
          "text": [
            "Accuracy score on Test Data :  1.0\n"
          ],
          "name": "stdout"
        }
      ]
    },
    {
      "cell_type": "code",
      "metadata": {
        "id": "6PCMZ4hVs3tP"
      },
      "source": [
        ""
      ],
      "execution_count": null,
      "outputs": []
    }
  ]
}